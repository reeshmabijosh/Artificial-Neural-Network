{
 "cells": [
  {
   "cell_type": "markdown",
   "metadata": {
    "colab_type": "text",
    "id": "3cbb7fRy-eyr"
   },
   "source": [
    "# Artificial Neural Network"
   ]
  },
  {
   "cell_type": "markdown",
   "metadata": {
    "colab_type": "text",
    "id": "8sNDnxE2-pwE"
   },
   "source": [
    "### Importing the libraries"
   ]
  },
  {
   "cell_type": "code",
   "execution_count": 1,
   "metadata": {
    "colab": {},
    "colab_type": "code",
    "id": "lxChR1Rk-umf"
   },
   "outputs": [
    {
     "name": "stderr",
     "output_type": "stream",
     "text": [
      "C:\\Users\\reesh\\Anaconda3\\envs\\tensorflow\\lib\\site-packages\\tensorflow\\python\\framework\\dtypes.py:526: FutureWarning: Passing (type, 1) or '1type' as a synonym of type is deprecated; in a future version of numpy, it will be understood as (type, (1,)) / '(1,)type'.\n",
      "  _np_qint8 = np.dtype([(\"qint8\", np.int8, 1)])\n",
      "C:\\Users\\reesh\\Anaconda3\\envs\\tensorflow\\lib\\site-packages\\tensorflow\\python\\framework\\dtypes.py:527: FutureWarning: Passing (type, 1) or '1type' as a synonym of type is deprecated; in a future version of numpy, it will be understood as (type, (1,)) / '(1,)type'.\n",
      "  _np_quint8 = np.dtype([(\"quint8\", np.uint8, 1)])\n",
      "C:\\Users\\reesh\\Anaconda3\\envs\\tensorflow\\lib\\site-packages\\tensorflow\\python\\framework\\dtypes.py:528: FutureWarning: Passing (type, 1) or '1type' as a synonym of type is deprecated; in a future version of numpy, it will be understood as (type, (1,)) / '(1,)type'.\n",
      "  _np_qint16 = np.dtype([(\"qint16\", np.int16, 1)])\n",
      "C:\\Users\\reesh\\Anaconda3\\envs\\tensorflow\\lib\\site-packages\\tensorflow\\python\\framework\\dtypes.py:529: FutureWarning: Passing (type, 1) or '1type' as a synonym of type is deprecated; in a future version of numpy, it will be understood as (type, (1,)) / '(1,)type'.\n",
      "  _np_quint16 = np.dtype([(\"quint16\", np.uint16, 1)])\n",
      "C:\\Users\\reesh\\Anaconda3\\envs\\tensorflow\\lib\\site-packages\\tensorflow\\python\\framework\\dtypes.py:530: FutureWarning: Passing (type, 1) or '1type' as a synonym of type is deprecated; in a future version of numpy, it will be understood as (type, (1,)) / '(1,)type'.\n",
      "  _np_qint32 = np.dtype([(\"qint32\", np.int32, 1)])\n",
      "C:\\Users\\reesh\\Anaconda3\\envs\\tensorflow\\lib\\site-packages\\tensorflow\\python\\framework\\dtypes.py:535: FutureWarning: Passing (type, 1) or '1type' as a synonym of type is deprecated; in a future version of numpy, it will be understood as (type, (1,)) / '(1,)type'.\n",
      "  np_resource = np.dtype([(\"resource\", np.ubyte, 1)])\n"
     ]
    }
   ],
   "source": [
    "import numpy as np\n",
    "import pandas as pd\n",
    "import tensorflow as tf"
   ]
  },
  {
   "cell_type": "code",
   "execution_count": 2,
   "metadata": {
    "colab": {
     "base_uri": "https://localhost:8080/",
     "height": 34
    },
    "colab_type": "code",
    "id": "uBTqR3nacj0e",
    "outputId": "4c0bd183-e424-429a-9fba-ceb841c06888"
   },
   "outputs": [
    {
     "data": {
      "text/plain": [
       "'1.13.1'"
      ]
     },
     "execution_count": 2,
     "metadata": {},
     "output_type": "execute_result"
    }
   ],
   "source": [
    "tf.__version__"
   ]
  },
  {
   "cell_type": "markdown",
   "metadata": {
    "colab_type": "text",
    "id": "AG3FQEch-yuA"
   },
   "source": [
    "## Part 1 - Data Preprocessing"
   ]
  },
  {
   "cell_type": "markdown",
   "metadata": {
    "colab_type": "text",
    "id": "-4zq8Mza_D9O"
   },
   "source": [
    "### Importing the dataset"
   ]
  },
  {
   "cell_type": "code",
   "execution_count": 4,
   "metadata": {
    "colab": {},
    "colab_type": "code",
    "id": "B9CV13Co_HHM"
   },
   "outputs": [],
   "source": [
    "dataset = pd.read_excel('Folds5x2_pp.xlsx')\n",
    "X = dataset.iloc[:, :-1].values\n",
    "y = dataset.iloc[:, -1].values"
   ]
  },
  {
   "cell_type": "markdown",
   "metadata": {
    "colab_type": "text",
    "id": "VC6omXel_Up0"
   },
   "source": [
    "### Splitting the dataset into the Training set and Test set"
   ]
  },
  {
   "cell_type": "code",
   "execution_count": 5,
   "metadata": {
    "colab": {},
    "colab_type": "code",
    "id": "L5edeb2r_agx"
   },
   "outputs": [],
   "source": [
    "from sklearn.model_selection import train_test_split\n",
    "X_train, X_test, y_train, y_test = train_test_split(X, y, test_size = 0.2, random_state = 0)"
   ]
  },
  {
   "cell_type": "markdown",
   "metadata": {
    "colab_type": "text",
    "id": "_mSLlAT9_eyI"
   },
   "source": [
    "## Part 2 - Building the ANN"
   ]
  },
  {
   "cell_type": "markdown",
   "metadata": {
    "colab_type": "text",
    "id": "CsBULd_f_wLY"
   },
   "source": [
    "### Initializing the ANN"
   ]
  },
  {
   "cell_type": "code",
   "execution_count": 6,
   "metadata": {
    "colab": {},
    "colab_type": "code",
    "id": "J6Hd97Ls__Nz"
   },
   "outputs": [],
   "source": [
    "ann = tf.keras.models.Sequential()"
   ]
  },
  {
   "cell_type": "markdown",
   "metadata": {
    "colab_type": "text",
    "id": "iitAFJS_ABUn"
   },
   "source": [
    "### Adding the input layer and the first hidden layer"
   ]
  },
  {
   "cell_type": "code",
   "execution_count": 7,
   "metadata": {
    "colab": {},
    "colab_type": "code",
    "id": "ksO_Vv40AHix"
   },
   "outputs": [],
   "source": [
    "ann.add(tf.keras.layers.Dense(units=6, activation='relu'))"
   ]
  },
  {
   "cell_type": "markdown",
   "metadata": {
    "colab_type": "text",
    "id": "-lb4kK_wAKbs"
   },
   "source": [
    "### Adding the second hidden layer"
   ]
  },
  {
   "cell_type": "code",
   "execution_count": 8,
   "metadata": {
    "colab": {},
    "colab_type": "code",
    "id": "c2357OqEAQOQ"
   },
   "outputs": [],
   "source": [
    "ann.add(tf.keras.layers.Dense(units=6, activation='relu'))"
   ]
  },
  {
   "cell_type": "markdown",
   "metadata": {
    "colab_type": "text",
    "id": "jwMOmKb3AdBY"
   },
   "source": [
    "### Adding the output layer"
   ]
  },
  {
   "cell_type": "code",
   "execution_count": 9,
   "metadata": {
    "colab": {},
    "colab_type": "code",
    "id": "YFATpzsUAkLL"
   },
   "outputs": [],
   "source": [
    "ann.add(tf.keras.layers.Dense(units=1))"
   ]
  },
  {
   "cell_type": "markdown",
   "metadata": {
    "colab_type": "text",
    "id": "fq7e4fF6A1yy"
   },
   "source": [
    "## Part 3 - Training the ANN"
   ]
  },
  {
   "cell_type": "markdown",
   "metadata": {
    "colab_type": "text",
    "id": "qDeylAs2An25"
   },
   "source": [
    "### Compiling the ANN"
   ]
  },
  {
   "cell_type": "code",
   "execution_count": 10,
   "metadata": {
    "colab": {},
    "colab_type": "code",
    "id": "pesgbWlCAtB4"
   },
   "outputs": [
    {
     "name": "stdout",
     "output_type": "stream",
     "text": [
      "WARNING:tensorflow:From C:\\Users\\reesh\\Anaconda3\\envs\\tensorflow\\lib\\site-packages\\tensorflow\\python\\ops\\resource_variable_ops.py:435: colocate_with (from tensorflow.python.framework.ops) is deprecated and will be removed in a future version.\n",
      "Instructions for updating:\n",
      "Colocations handled automatically by placer.\n"
     ]
    }
   ],
   "source": [
    "ann.compile(optimizer = 'adam', loss = 'mean_squared_error')"
   ]
  },
  {
   "cell_type": "markdown",
   "metadata": {
    "colab_type": "text",
    "id": "YjVuiybYOo7r"
   },
   "source": [
    "### Training the ANN model on the Training set"
   ]
  },
  {
   "cell_type": "code",
   "execution_count": 11,
   "metadata": {
    "colab": {
     "base_uri": "https://localhost:8080/",
     "height": 1000
    },
    "colab_type": "code",
    "id": "c_vV-tiiA5zn",
    "outputId": "4a2b6ee6-ed75-4698-9069-b250e613803f"
   },
   "outputs": [
    {
     "name": "stdout",
     "output_type": "stream",
     "text": [
      "WARNING:tensorflow:From C:\\Users\\reesh\\Anaconda3\\envs\\tensorflow\\lib\\site-packages\\tensorflow\\python\\keras\\utils\\losses_utils.py:170: to_float (from tensorflow.python.ops.math_ops) is deprecated and will be removed in a future version.\n",
      "Instructions for updating:\n",
      "Use tf.cast instead.\n",
      "WARNING:tensorflow:From C:\\Users\\reesh\\Anaconda3\\envs\\tensorflow\\lib\\site-packages\\tensorflow\\python\\ops\\math_ops.py:3066: to_int32 (from tensorflow.python.ops.math_ops) is deprecated and will be removed in a future version.\n",
      "Instructions for updating:\n",
      "Use tf.cast instead.\n",
      "Epoch 1/100\n",
      "7654/7654 [==============================] - 1s 82us/sample - loss: 98972.6732\n",
      "Epoch 2/100\n",
      "7654/7654 [==============================] - 0s 33us/sample - loss: 203.8654\n",
      "Epoch 3/100\n",
      "7654/7654 [==============================] - 0s 39us/sample - loss: 172.7350\n",
      "Epoch 4/100\n",
      "7654/7654 [==============================] - 0s 29us/sample - loss: 167.1878\n",
      "Epoch 5/100\n",
      "7654/7654 [==============================] - 0s 30us/sample - loss: 160.6690\n",
      "Epoch 6/100\n",
      "7654/7654 [==============================] - 0s 30us/sample - loss: 153.2128\n",
      "Epoch 7/100\n",
      "7654/7654 [==============================] - 0s 48us/sample - loss: 144.9985\n",
      "Epoch 8/100\n",
      "7654/7654 [==============================] - 0s 35us/sample - loss: 135.8004\n",
      "Epoch 9/100\n",
      "7654/7654 [==============================] - 0s 38us/sample - loss: 126.6390\n",
      "Epoch 10/100\n",
      "7654/7654 [==============================] - 0s 32us/sample - loss: 116.5491\n",
      "Epoch 11/100\n",
      "7654/7654 [==============================] - 0s 39us/sample - loss: 106.5267\n",
      "Epoch 12/100\n",
      "7654/7654 [==============================] - 0s 36us/sample - loss: 96.3004\n",
      "Epoch 13/100\n",
      "7654/7654 [==============================] - 0s 32us/sample - loss: 86.4570\n",
      "Epoch 14/100\n",
      "7654/7654 [==============================] - 0s 31us/sample - loss: 77.2148\n",
      "Epoch 15/100\n",
      "7654/7654 [==============================] - 0s 39us/sample - loss: 68.5604\n",
      "Epoch 16/100\n",
      "7654/7654 [==============================] - 0s 33us/sample - loss: 60.6213\n",
      "Epoch 17/100\n",
      "7654/7654 [==============================] - 0s 33us/sample - loss: 54.0089\n",
      "Epoch 18/100\n",
      "7654/7654 [==============================] - 0s 33us/sample - loss: 48.5420\n",
      "Epoch 19/100\n",
      "7654/7654 [==============================] - 0s 52us/sample - loss: 44.0070\n",
      "Epoch 20/100\n",
      "7654/7654 [==============================] - 0s 39us/sample - loss: 40.7291\n",
      "Epoch 21/100\n",
      "7654/7654 [==============================] - 0s 33us/sample - loss: 38.0856\n",
      "Epoch 22/100\n",
      "7654/7654 [==============================] - 0s 32us/sample - loss: 36.3541\n",
      "Epoch 23/100\n",
      "7654/7654 [==============================] - 0s 39us/sample - loss: 34.7815\n",
      "Epoch 24/100\n",
      "7654/7654 [==============================] - 0s 38us/sample - loss: 34.0425\n",
      "Epoch 25/100\n",
      "7654/7654 [==============================] - 0s 33us/sample - loss: 33.1460\n",
      "Epoch 26/100\n",
      "7654/7654 [==============================] - 0s 31us/sample - loss: 32.4480\n",
      "Epoch 27/100\n",
      "7654/7654 [==============================] - 0s 40us/sample - loss: 32.2635\n",
      "Epoch 28/100\n",
      "7654/7654 [==============================] - 0s 35us/sample - loss: 31.5701\n",
      "Epoch 29/100\n",
      "7654/7654 [==============================] - 0s 32us/sample - loss: 30.8110\n",
      "Epoch 30/100\n",
      "7654/7654 [==============================] - 0s 32us/sample - loss: 30.5907\n",
      "Epoch 31/100\n",
      "7654/7654 [==============================] - 0s 45us/sample - loss: 29.9550\n",
      "Epoch 32/100\n",
      "7654/7654 [==============================] - 0s 35us/sample - loss: 30.0063\n",
      "Epoch 33/100\n",
      "7654/7654 [==============================] - 0s 35us/sample - loss: 29.5179\n",
      "Epoch 34/100\n",
      "7654/7654 [==============================] - 0s 32us/sample - loss: 29.1010\n",
      "Epoch 35/100\n",
      "7654/7654 [==============================] - 0s 37us/sample - loss: 28.8288\n",
      "Epoch 36/100\n",
      "7654/7654 [==============================] - 0s 34us/sample - loss: 29.1572\n",
      "Epoch 37/100\n",
      "7654/7654 [==============================] - 0s 39us/sample - loss: 28.7078\n",
      "Epoch 38/100\n",
      "7654/7654 [==============================] - 0s 32us/sample - loss: 28.4342\n",
      "Epoch 39/100\n",
      "7654/7654 [==============================] - 0s 42us/sample - loss: 28.8690\n",
      "Epoch 40/100\n",
      "7654/7654 [==============================] - 0s 35us/sample - loss: 28.1883\n",
      "Epoch 41/100\n",
      "7654/7654 [==============================] - 0s 38us/sample - loss: 28.3227\n",
      "Epoch 42/100\n",
      "7654/7654 [==============================] - 0s 32us/sample - loss: 28.0955\n",
      "Epoch 43/100\n",
      "7654/7654 [==============================] - 0s 38us/sample - loss: 27.8877\n",
      "Epoch 44/100\n",
      "7654/7654 [==============================] - 0s 46us/sample - loss: 27.4391\n",
      "Epoch 45/100\n",
      "7654/7654 [==============================] - 0s 40us/sample - loss: 27.9165\n",
      "Epoch 46/100\n",
      "7654/7654 [==============================] - 0s 39us/sample - loss: 27.4347\n",
      "Epoch 47/100\n",
      "7654/7654 [==============================] - 0s 44us/sample - loss: 27.5079\n",
      "Epoch 48/100\n",
      "7654/7654 [==============================] - 0s 41us/sample - loss: 27.3650\n",
      "Epoch 49/100\n",
      "7654/7654 [==============================] - 0s 48us/sample - loss: 27.3851\n",
      "Epoch 50/100\n",
      "7654/7654 [==============================] - 0s 41us/sample - loss: 26.8957\n",
      "Epoch 51/100\n",
      "7654/7654 [==============================] - 0s 33us/sample - loss: 27.5157\n",
      "Epoch 52/100\n",
      "7654/7654 [==============================] - 0s 30us/sample - loss: 27.3990\n",
      "Epoch 53/100\n",
      "7654/7654 [==============================] - 0s 31us/sample - loss: 26.9145\n",
      "Epoch 54/100\n",
      "7654/7654 [==============================] - 0s 31us/sample - loss: 27.2298\n",
      "Epoch 55/100\n",
      "7654/7654 [==============================] - 0s 36us/sample - loss: 27.3607\n",
      "Epoch 56/100\n",
      "7654/7654 [==============================] - 0s 32us/sample - loss: 26.5965\n",
      "Epoch 57/100\n",
      "7654/7654 [==============================] - 0s 32us/sample - loss: 26.7274\n",
      "Epoch 58/100\n",
      "7654/7654 [==============================] - 0s 32us/sample - loss: 27.5574\n",
      "Epoch 59/100\n",
      "7654/7654 [==============================] - 0s 39us/sample - loss: 26.7709\n",
      "Epoch 60/100\n",
      "7654/7654 [==============================] - 0s 31us/sample - loss: 26.7658\n",
      "Epoch 61/100\n",
      "7654/7654 [==============================] - 0s 33us/sample - loss: 27.0713\n",
      "Epoch 62/100\n",
      "7654/7654 [==============================] - 0s 32us/sample - loss: 26.6518\n",
      "Epoch 63/100\n",
      "7654/7654 [==============================] - 0s 43us/sample - loss: 27.8227\n",
      "Epoch 64/100\n",
      "7654/7654 [==============================] - 0s 39us/sample - loss: 27.7776\n",
      "Epoch 65/100\n",
      "7654/7654 [==============================] - 0s 32us/sample - loss: 27.0354\n",
      "Epoch 66/100\n",
      "7654/7654 [==============================] - 0s 30us/sample - loss: 26.9471\n",
      "Epoch 67/100\n",
      "7654/7654 [==============================] - 0s 40us/sample - loss: 26.8610\n",
      "Epoch 68/100\n",
      "7654/7654 [==============================] - 0s 34us/sample - loss: 26.9502\n",
      "Epoch 69/100\n",
      "7654/7654 [==============================] - 0s 31us/sample - loss: 27.4773\n",
      "Epoch 70/100\n",
      "7654/7654 [==============================] - 0s 32us/sample - loss: 26.8050\n",
      "Epoch 71/100\n",
      "7654/7654 [==============================] - 0s 42us/sample - loss: 26.9995\n",
      "Epoch 72/100\n",
      "7654/7654 [==============================] - 0s 37us/sample - loss: 26.8546\n",
      "Epoch 73/100\n",
      "7654/7654 [==============================] - 0s 36us/sample - loss: 27.1635\n",
      "Epoch 74/100\n",
      "7654/7654 [==============================] - 0s 36us/sample - loss: 26.7456\n",
      "Epoch 75/100\n",
      "7654/7654 [==============================] - 0s 40us/sample - loss: 27.2002\n",
      "Epoch 76/100\n",
      "7654/7654 [==============================] - 0s 33us/sample - loss: 26.7446\n",
      "Epoch 77/100\n",
      "7654/7654 [==============================] - 0s 31us/sample - loss: 27.5676\n",
      "Epoch 78/100\n",
      "7654/7654 [==============================] - 0s 33us/sample - loss: 26.9736\n",
      "Epoch 79/100\n",
      "7654/7654 [==============================] - 0s 37us/sample - loss: 26.5636\n",
      "Epoch 80/100\n",
      "7654/7654 [==============================] - 0s 32us/sample - loss: 27.4037\n",
      "Epoch 81/100\n",
      "7654/7654 [==============================] - 0s 31us/sample - loss: 26.6456\n",
      "Epoch 82/100\n",
      "7654/7654 [==============================] - 0s 34us/sample - loss: 26.5192\n",
      "Epoch 83/100\n",
      "7654/7654 [==============================] - 0s 32us/sample - loss: 27.0477\n",
      "Epoch 84/100\n",
      "7654/7654 [==============================] - 0s 40us/sample - loss: 26.6354\n",
      "Epoch 85/100\n",
      "7654/7654 [==============================] - 0s 31us/sample - loss: 26.6914\n",
      "Epoch 86/100\n"
     ]
    },
    {
     "name": "stdout",
     "output_type": "stream",
     "text": [
      "7654/7654 [==============================] - 0s 31us/sample - loss: 26.9886\n",
      "Epoch 87/100\n",
      "7654/7654 [==============================] - 0s 33us/sample - loss: 26.8294\n",
      "Epoch 88/100\n",
      "7654/7654 [==============================] - 0s 45us/sample - loss: 26.8704\n",
      "Epoch 89/100\n",
      "7654/7654 [==============================] - 0s 33us/sample - loss: 26.5486\n",
      "Epoch 90/100\n",
      "7654/7654 [==============================] - 0s 31us/sample - loss: 26.6796\n",
      "Epoch 91/100\n",
      "7654/7654 [==============================] - 0s 30us/sample - loss: 26.8286\n",
      "Epoch 92/100\n",
      "7654/7654 [==============================] - 0s 35us/sample - loss: 27.0028\n",
      "Epoch 93/100\n",
      "7654/7654 [==============================] - 0s 44us/sample - loss: 26.5520\n",
      "Epoch 94/100\n",
      "7654/7654 [==============================] - 0s 32us/sample - loss: 27.1625s - loss: 27.\n",
      "Epoch 95/100\n",
      "7654/7654 [==============================] - 0s 30us/sample - loss: 26.7114\n",
      "Epoch 96/100\n",
      "7654/7654 [==============================] - 0s 36us/sample - loss: 26.6045\n",
      "Epoch 97/100\n",
      "7654/7654 [==============================] - 0s 31us/sample - loss: 26.8261\n",
      "Epoch 98/100\n",
      "7654/7654 [==============================] - 0s 32us/sample - loss: 27.0180\n",
      "Epoch 99/100\n",
      "7654/7654 [==============================] - 0s 37us/sample - loss: 26.6984\n",
      "Epoch 100/100\n",
      "7654/7654 [==============================] - 0s 37us/sample - loss: 27.0175\n"
     ]
    },
    {
     "data": {
      "text/plain": [
       "<tensorflow.python.keras.callbacks.History at 0x170f5875ba8>"
      ]
     },
     "execution_count": 11,
     "metadata": {},
     "output_type": "execute_result"
    }
   ],
   "source": [
    "ann.fit(X_train, y_train, batch_size = 32, epochs = 100)"
   ]
  },
  {
   "cell_type": "markdown",
   "metadata": {
    "colab_type": "text",
    "id": "0H0zKKNEBLD5"
   },
   "source": [
    "### Predicting the results of the Test set"
   ]
  },
  {
   "cell_type": "code",
   "execution_count": 12,
   "metadata": {
    "colab": {
     "base_uri": "https://localhost:8080/",
     "height": 134
    },
    "colab_type": "code",
    "id": "IA0yApEmBG1X",
    "outputId": "cb981e1f-9204-4a2a-fece-9d66a6919189"
   },
   "outputs": [
    {
     "name": "stdout",
     "output_type": "stream",
     "text": [
      "[[429.22 431.23]\n",
      " [460.15 460.01]\n",
      " [463.61 461.14]\n",
      " ...\n",
      " [470.85 473.26]\n",
      " [437.78 438.  ]\n",
      " [456.92 463.28]]\n"
     ]
    }
   ],
   "source": [
    "y_pred = ann.predict(X_test)\n",
    "np.set_printoptions(precision=2)\n",
    "print(np.concatenate((y_pred.reshape(len(y_pred),1), y_test.reshape(len(y_test),1)),1))"
   ]
  },
  {
   "cell_type": "code",
   "execution_count": null,
   "metadata": {},
   "outputs": [],
   "source": []
  },
  {
   "cell_type": "code",
   "execution_count": null,
   "metadata": {},
   "outputs": [],
   "source": []
  }
 ],
 "metadata": {
  "colab": {
   "collapsed_sections": [],
   "name": "Artificial Neural Network",
   "provenance": [],
   "toc_visible": true
  },
  "kernelspec": {
   "display_name": "Python 3",
   "language": "python",
   "name": "python3"
  },
  "language_info": {
   "codemirror_mode": {
    "name": "ipython",
    "version": 3
   },
   "file_extension": ".py",
   "mimetype": "text/x-python",
   "name": "python",
   "nbconvert_exporter": "python",
   "pygments_lexer": "ipython3",
   "version": "3.6.10"
  }
 },
 "nbformat": 4,
 "nbformat_minor": 1
}
